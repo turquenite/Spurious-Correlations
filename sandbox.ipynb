{
 "cells": [
  {
   "cell_type": "code",
   "execution_count": 1,
   "metadata": {},
   "outputs": [],
   "source": [
    "from torch.utils.data import DataLoader\n",
    "\n",
    "from dataset import MNISTDataset\n",
    "from model_trainer import deep_feature_reweighting, train\n",
    "from models import SimpleModel\n",
    "from spurious_features import Position, spurious_square"
   ]
  },
  {
   "cell_type": "code",
   "execution_count": 2,
   "metadata": {},
   "outputs": [],
   "source": [
    "train_dataset = MNISTDataset(\n",
    "    train=True,\n",
    "    labels=[9, 7, 6],\n",
    "    spurious_features={\n",
    "        9: lambda img: spurious_square(img, pos=Position.LEFT_TOP, size=6),\n",
    "        7: lambda img: spurious_square(img, pos=Position.LEFT_TOP, size=6),\n",
    "    },\n",
    "    probabilities={9: 0.99, 7: 0.01},\n",
    ")\n",
    "\n",
    "validation_dataset = MNISTDataset(train=False, labels=[9, 7, 6])"
   ]
  },
  {
   "cell_type": "code",
   "execution_count": 3,
   "metadata": {},
   "outputs": [],
   "source": [
    "train_loader = DataLoader(train_dataset, batch_size=64, shuffle=True)\n",
    "validation_loader = DataLoader(validation_dataset, batch_size=64, shuffle=False)"
   ]
  },
  {
   "cell_type": "code",
   "execution_count": 4,
   "metadata": {},
   "outputs": [
    {
     "name": "stderr",
     "output_type": "stream",
     "text": [
      "Epochs: 100%|██████████| 10/10 [00:22<00:00,  2.23s/it, Train Loss=0.0000, Valid Loss=0.1290, Train Accuracy=99.95%, Valid Accuracy=97.30%, Worst Group Accuracy=91.97%]\n"
     ]
    }
   ],
   "source": [
    "model = SimpleModel(num_classes=3)\n",
    "\n",
    "model_path, tensorboard_path = train(\n",
    "    model=model,\n",
    "    validation_loader=validation_loader,\n",
    "    train_loader=train_loader,\n",
    "    num_epochs=10,\n",
    ")"
   ]
  },
  {
   "cell_type": "code",
   "execution_count": 5,
   "metadata": {},
   "outputs": [],
   "source": [
    "dfr_train_set = MNISTDataset(train=True, labels=[9, 7, 6])\n",
    "dfr_loader = DataLoader(dfr_train_set, batch_size=64, shuffle=True)"
   ]
  },
  {
   "cell_type": "code",
   "execution_count": 6,
   "metadata": {},
   "outputs": [
    {
     "name": "stderr",
     "output_type": "stream",
     "text": [
      "Reweighting Epochs: 100%|██████████| 2/2 [00:04<00:00,  2.37s/it, Train Loss=0.0000, Valid Loss=0.0246, Train Accuracy=99.35%, Valid Accuracy=99.17%, Worst Group Accuracy=98.32%]\n"
     ]
    }
   ],
   "source": [
    "model_path, tensorboard_path = deep_feature_reweighting(\n",
    "    path_to_model=model_path,\n",
    "    path_to_tensorboard_run=tensorboard_path,\n",
    "    model=model,\n",
    "    num_epochs=2,\n",
    "    validation_loader=validation_loader,\n",
    "    train_loader=dfr_loader,\n",
    ")"
   ]
  },
  {
   "cell_type": "code",
   "execution_count": 7,
   "metadata": {},
   "outputs": [
    {
     "data": {
      "text/plain": [
       "'runs/spurious_trainer_15_11_2024_1602'"
      ]
     },
     "execution_count": 7,
     "metadata": {},
     "output_type": "execute_result"
    }
   ],
   "source": [
    "tensorboard_path"
   ]
  },
  {
   "cell_type": "code",
   "execution_count": null,
   "metadata": {},
   "outputs": [],
   "source": []
  }
 ],
 "metadata": {
  "kernelspec": {
   "display_name": "spurious-correlations-tPE6SoRX-py3.12",
   "language": "python",
   "name": "python3"
  },
  "language_info": {
   "codemirror_mode": {
    "name": "ipython",
    "version": 3
   },
   "file_extension": ".py",
   "mimetype": "text/x-python",
   "name": "python",
   "nbconvert_exporter": "python",
   "pygments_lexer": "ipython3",
   "version": "3.12.7"
  }
 },
 "nbformat": 4,
 "nbformat_minor": 2
}
