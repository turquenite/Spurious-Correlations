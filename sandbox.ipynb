{
 "cells": [
  {
   "cell_type": "code",
   "execution_count": 1,
   "metadata": {},
   "outputs": [],
   "source": [
    "from torch.utils.data import DataLoader\n",
    "from dataset import MNISTDataset\n",
    "from model_trainer import deep_feature_reweighting, train\n",
    "from models import SimpleModel\n",
    "from spurious_features import Position, spurious_square, SpuriousFeature\n",
    "import torch\n",
    "\n",
    "from experiments import run_experiments"
   ]
  },
  {
   "cell_type": "code",
   "execution_count": 3,
   "metadata": {},
   "outputs": [
    {
     "ename": "KeyboardInterrupt",
     "evalue": "",
     "output_type": "error",
     "traceback": [
      "\u001b[1;31m---------------------------------------------------------------------------\u001b[0m",
      "\u001b[1;31mKeyboardInterrupt\u001b[0m                         Traceback (most recent call last)",
      "Cell \u001b[1;32mIn[3], line 17\u001b[0m\n\u001b[0;32m     13\u001b[0m opposite_probabilities \u001b[38;5;241m=\u001b[39m {\u001b[38;5;241m9\u001b[39m: \u001b[38;5;241m0.95\u001b[39m, \u001b[38;5;241m7\u001b[39m: \u001b[38;5;241m0.95\u001b[39m}\n\u001b[0;32m     15\u001b[0m config \u001b[38;5;241m=\u001b[39m {\u001b[38;5;124m\"\u001b[39m\u001b[38;5;124mbatch_size\u001b[39m\u001b[38;5;124m\"\u001b[39m: [\u001b[38;5;241m32\u001b[39m, \u001b[38;5;241m64\u001b[39m], \u001b[38;5;124m\"\u001b[39m\u001b[38;5;124mlatent_size\u001b[39m\u001b[38;5;124m\"\u001b[39m:[\u001b[38;5;241m128\u001b[39m, \u001b[38;5;241m512\u001b[39m]}\n\u001b[1;32m---> 17\u001b[0m \u001b[43mrun_experiments\u001b[49m\u001b[43m(\u001b[49m\u001b[43mexperiment_title\u001b[49m\u001b[38;5;241;43m=\u001b[39;49m\u001b[38;5;124;43m\"\u001b[39;49m\u001b[38;5;124;43mExperiment 1\u001b[39;49m\u001b[38;5;124;43m\"\u001b[39;49m\u001b[43m,\u001b[49m\u001b[43m \u001b[49m\u001b[43mlabels\u001b[49m\u001b[38;5;241;43m=\u001b[39;49m\u001b[43m[\u001b[49m\u001b[38;5;241;43m7\u001b[39;49m\u001b[43m,\u001b[49m\u001b[38;5;241;43m9\u001b[39;49m\u001b[43m]\u001b[49m\u001b[43m,\u001b[49m\u001b[43m \u001b[49m\u001b[43mspurious_features\u001b[49m\u001b[38;5;241;43m=\u001b[39;49m\u001b[43mspurious_features\u001b[49m\u001b[43m,\u001b[49m\u001b[43m \u001b[49m\u001b[43mspurious_probabilities\u001b[49m\u001b[38;5;241;43m=\u001b[39;49m\u001b[43mprobabilities\u001b[49m\u001b[43m,\u001b[49m\u001b[43m \u001b[49m\u001b[43mopposite_spurious_features\u001b[49m\u001b[38;5;241;43m=\u001b[39;49m\u001b[43mopposite_spurious_features\u001b[49m\u001b[43m,\u001b[49m\u001b[43m \u001b[49m\u001b[43mopposite_spurious_probabilities\u001b[49m\u001b[38;5;241;43m=\u001b[39;49m\u001b[43mopposite_probabilities\u001b[49m\u001b[43m,\u001b[49m\u001b[43m \u001b[49m\u001b[43mexperiment_config\u001b[49m\u001b[38;5;241;43m=\u001b[39;49m\u001b[43mconfig\u001b[49m\u001b[43m)\u001b[49m\n",
      "File \u001b[1;32mc:\\Users\\domin\\Documents\\Repos\\Spurious-Correlations\\experiments.py:56\u001b[0m, in \u001b[0;36mrun_experiments\u001b[1;34m(experiment_title, labels, spurious_features, spurious_probabilities, opposite_spurious_features, opposite_spurious_probabilities, experiment_config)\u001b[0m\n\u001b[0;32m     53\u001b[0m \u001b[38;5;28;01mif\u001b[39;00m invalid_keys:\n\u001b[0;32m     54\u001b[0m     \u001b[38;5;28;01mraise\u001b[39;00m \u001b[38;5;167;01mValueError\u001b[39;00m(\u001b[38;5;124mf\u001b[39m\u001b[38;5;124m\"\u001b[39m\u001b[38;5;124mThe following keys are invalid: \u001b[39m\u001b[38;5;132;01m{\u001b[39;00minvalid_keys\u001b[38;5;132;01m}\u001b[39;00m\u001b[38;5;124m.\u001b[39m\u001b[38;5;124m\"\u001b[39m)\n\u001b[1;32m---> 56\u001b[0m train_dataset \u001b[38;5;241m=\u001b[39m \u001b[43mMNISTDataset\u001b[49m\u001b[43m(\u001b[49m\n\u001b[0;32m     57\u001b[0m \u001b[43m    \u001b[49m\u001b[43mtrain\u001b[49m\u001b[38;5;241;43m=\u001b[39;49m\u001b[38;5;28;43;01mTrue\u001b[39;49;00m\u001b[43m,\u001b[49m\n\u001b[0;32m     58\u001b[0m \u001b[43m    \u001b[49m\u001b[43mlabels\u001b[49m\u001b[38;5;241;43m=\u001b[39;49m\u001b[43mlabels\u001b[49m\u001b[43m,\u001b[49m\n\u001b[0;32m     59\u001b[0m \u001b[43m    \u001b[49m\u001b[43mspurious_features\u001b[49m\u001b[38;5;241;43m=\u001b[39;49m\u001b[43mspurious_features\u001b[49m\u001b[43m,\u001b[49m\n\u001b[0;32m     60\u001b[0m \u001b[43m    \u001b[49m\u001b[43mprobabilities\u001b[49m\u001b[38;5;241;43m=\u001b[39;49m\u001b[43mspurious_probabilities\u001b[49m\u001b[43m,\u001b[49m\n\u001b[0;32m     61\u001b[0m \u001b[43m\u001b[49m\u001b[43m)\u001b[49m\n\u001b[0;32m     63\u001b[0m validation_spurious_dataset \u001b[38;5;241m=\u001b[39m MNISTDataset(\n\u001b[0;32m     64\u001b[0m     train\u001b[38;5;241m=\u001b[39m\u001b[38;5;28;01mFalse\u001b[39;00m,\n\u001b[0;32m     65\u001b[0m     labels\u001b[38;5;241m=\u001b[39mlabels,\n\u001b[0;32m     66\u001b[0m     spurious_features\u001b[38;5;241m=\u001b[39mspurious_features,\n\u001b[0;32m     67\u001b[0m     probabilities\u001b[38;5;241m=\u001b[39mspurious_probabilities,\n\u001b[0;32m     68\u001b[0m )\n\u001b[0;32m     70\u001b[0m validation_opposite_spurious_dataset \u001b[38;5;241m=\u001b[39m MNISTDataset(\n\u001b[0;32m     71\u001b[0m     train\u001b[38;5;241m=\u001b[39m\u001b[38;5;28;01mFalse\u001b[39;00m,\n\u001b[0;32m     72\u001b[0m     labels\u001b[38;5;241m=\u001b[39mlabels,\n\u001b[0;32m     73\u001b[0m     spurious_features\u001b[38;5;241m=\u001b[39mopposite_spurious_features,\n\u001b[0;32m     74\u001b[0m     probabilities\u001b[38;5;241m=\u001b[39mopposite_spurious_probabilities,\n\u001b[0;32m     75\u001b[0m )\n",
      "File \u001b[1;32mc:\\Users\\domin\\Documents\\Repos\\Spurious-Correlations\\dataset.py:56\u001b[0m, in \u001b[0;36mMNISTDataset.__init__\u001b[1;34m(self, train, labels, spurious_features, probabilities, random_seed)\u001b[0m\n\u001b[0;32m     52\u001b[0m     indices \u001b[38;5;241m=\u001b[39m [\n\u001b[0;32m     53\u001b[0m         i \u001b[38;5;28;01mfor\u001b[39;00m i, (_, label) \u001b[38;5;129;01min\u001b[39;00m \u001b[38;5;28menumerate\u001b[39m(full_dataset) \u001b[38;5;28;01mif\u001b[39;00m label \u001b[38;5;129;01min\u001b[39;00m labels\n\u001b[0;32m     54\u001b[0m     ]\n\u001b[0;32m     55\u001b[0m     data_subset \u001b[38;5;241m=\u001b[39m torch\u001b[38;5;241m.\u001b[39mutils\u001b[38;5;241m.\u001b[39mdata\u001b[38;5;241m.\u001b[39mSubset(full_dataset, indices)\n\u001b[1;32m---> 56\u001b[0m     data \u001b[38;5;241m=\u001b[39m \u001b[43m[\u001b[49m\u001b[43m(\u001b[49m\u001b[43mimg\u001b[49m\u001b[43m,\u001b[49m\u001b[43m \u001b[49m\u001b[43mlabel\u001b[49m\u001b[43m)\u001b[49m\u001b[43m \u001b[49m\u001b[38;5;28;43;01mfor\u001b[39;49;00m\u001b[43m \u001b[49m\u001b[43mimg\u001b[49m\u001b[43m,\u001b[49m\u001b[43m \u001b[49m\u001b[43mlabel\u001b[49m\u001b[43m \u001b[49m\u001b[38;5;129;43;01min\u001b[39;49;00m\u001b[43m \u001b[49m\u001b[43mdata_subset\u001b[49m\u001b[43m]\u001b[49m\n\u001b[0;32m     58\u001b[0m \u001b[38;5;28;01melse\u001b[39;00m:\n\u001b[0;32m     59\u001b[0m     \u001b[38;5;28mself\u001b[39m\u001b[38;5;241m.\u001b[39mlabel_encoding \u001b[38;5;241m=\u001b[39m {\n\u001b[0;32m     60\u001b[0m         label: idx \u001b[38;5;28;01mfor\u001b[39;00m idx, label \u001b[38;5;129;01min\u001b[39;00m \u001b[38;5;28menumerate\u001b[39m([\u001b[38;5;241m0\u001b[39m, \u001b[38;5;241m1\u001b[39m, \u001b[38;5;241m2\u001b[39m, \u001b[38;5;241m3\u001b[39m, \u001b[38;5;241m4\u001b[39m, \u001b[38;5;241m5\u001b[39m, \u001b[38;5;241m6\u001b[39m, \u001b[38;5;241m7\u001b[39m, \u001b[38;5;241m8\u001b[39m, \u001b[38;5;241m9\u001b[39m])\n\u001b[0;32m     61\u001b[0m     }\n",
      "File \u001b[1;32mc:\\Users\\domin\\Documents\\Repos\\Spurious-Correlations\\dataset.py:56\u001b[0m, in \u001b[0;36m<listcomp>\u001b[1;34m(.0)\u001b[0m\n\u001b[0;32m     52\u001b[0m     indices \u001b[38;5;241m=\u001b[39m [\n\u001b[0;32m     53\u001b[0m         i \u001b[38;5;28;01mfor\u001b[39;00m i, (_, label) \u001b[38;5;129;01min\u001b[39;00m \u001b[38;5;28menumerate\u001b[39m(full_dataset) \u001b[38;5;28;01mif\u001b[39;00m label \u001b[38;5;129;01min\u001b[39;00m labels\n\u001b[0;32m     54\u001b[0m     ]\n\u001b[0;32m     55\u001b[0m     data_subset \u001b[38;5;241m=\u001b[39m torch\u001b[38;5;241m.\u001b[39mutils\u001b[38;5;241m.\u001b[39mdata\u001b[38;5;241m.\u001b[39mSubset(full_dataset, indices)\n\u001b[1;32m---> 56\u001b[0m     data \u001b[38;5;241m=\u001b[39m \u001b[43m[\u001b[49m\u001b[43m(\u001b[49m\u001b[43mimg\u001b[49m\u001b[43m,\u001b[49m\u001b[43m \u001b[49m\u001b[43mlabel\u001b[49m\u001b[43m)\u001b[49m\u001b[43m \u001b[49m\u001b[38;5;28;43;01mfor\u001b[39;49;00m\u001b[43m \u001b[49m\u001b[43mimg\u001b[49m\u001b[43m,\u001b[49m\u001b[43m \u001b[49m\u001b[43mlabel\u001b[49m\u001b[43m \u001b[49m\u001b[38;5;129;43;01min\u001b[39;49;00m\u001b[43m \u001b[49m\u001b[43mdata_subset\u001b[49m\u001b[43m]\u001b[49m\n\u001b[0;32m     58\u001b[0m \u001b[38;5;28;01melse\u001b[39;00m:\n\u001b[0;32m     59\u001b[0m     \u001b[38;5;28mself\u001b[39m\u001b[38;5;241m.\u001b[39mlabel_encoding \u001b[38;5;241m=\u001b[39m {\n\u001b[0;32m     60\u001b[0m         label: idx \u001b[38;5;28;01mfor\u001b[39;00m idx, label \u001b[38;5;129;01min\u001b[39;00m \u001b[38;5;28menumerate\u001b[39m([\u001b[38;5;241m0\u001b[39m, \u001b[38;5;241m1\u001b[39m, \u001b[38;5;241m2\u001b[39m, \u001b[38;5;241m3\u001b[39m, \u001b[38;5;241m4\u001b[39m, \u001b[38;5;241m5\u001b[39m, \u001b[38;5;241m6\u001b[39m, \u001b[38;5;241m7\u001b[39m, \u001b[38;5;241m8\u001b[39m, \u001b[38;5;241m9\u001b[39m])\n\u001b[0;32m     61\u001b[0m     }\n",
      "File \u001b[1;32mc:\\Users\\domin\\AppData\\Local\\pypoetry\\Cache\\virtualenvs\\spurious-correlations-tPE6SoRX-py3.11\\Lib\\site-packages\\torch\\utils\\data\\dataset.py:412\u001b[0m, in \u001b[0;36mSubset.__getitem__\u001b[1;34m(self, idx)\u001b[0m\n\u001b[0;32m    410\u001b[0m \u001b[38;5;28;01mif\u001b[39;00m \u001b[38;5;28misinstance\u001b[39m(idx, \u001b[38;5;28mlist\u001b[39m):\n\u001b[0;32m    411\u001b[0m     \u001b[38;5;28;01mreturn\u001b[39;00m \u001b[38;5;28mself\u001b[39m\u001b[38;5;241m.\u001b[39mdataset[[\u001b[38;5;28mself\u001b[39m\u001b[38;5;241m.\u001b[39mindices[i] \u001b[38;5;28;01mfor\u001b[39;00m i \u001b[38;5;129;01min\u001b[39;00m idx]]\n\u001b[1;32m--> 412\u001b[0m \u001b[38;5;28;01mreturn\u001b[39;00m \u001b[38;5;28;43mself\u001b[39;49m\u001b[38;5;241;43m.\u001b[39;49m\u001b[43mdataset\u001b[49m\u001b[43m[\u001b[49m\u001b[38;5;28;43mself\u001b[39;49m\u001b[38;5;241;43m.\u001b[39;49m\u001b[43mindices\u001b[49m\u001b[43m[\u001b[49m\u001b[43midx\u001b[49m\u001b[43m]\u001b[49m\u001b[43m]\u001b[49m\n",
      "File \u001b[1;32mc:\\Users\\domin\\AppData\\Local\\pypoetry\\Cache\\virtualenvs\\spurious-correlations-tPE6SoRX-py3.11\\Lib\\site-packages\\torchvision\\datasets\\mnist.py:146\u001b[0m, in \u001b[0;36mMNIST.__getitem__\u001b[1;34m(self, index)\u001b[0m\n\u001b[0;32m    143\u001b[0m img \u001b[38;5;241m=\u001b[39m Image\u001b[38;5;241m.\u001b[39mfromarray(img\u001b[38;5;241m.\u001b[39mnumpy(), mode\u001b[38;5;241m=\u001b[39m\u001b[38;5;124m\"\u001b[39m\u001b[38;5;124mL\u001b[39m\u001b[38;5;124m\"\u001b[39m)\n\u001b[0;32m    145\u001b[0m \u001b[38;5;28;01mif\u001b[39;00m \u001b[38;5;28mself\u001b[39m\u001b[38;5;241m.\u001b[39mtransform \u001b[38;5;129;01mis\u001b[39;00m \u001b[38;5;129;01mnot\u001b[39;00m \u001b[38;5;28;01mNone\u001b[39;00m:\n\u001b[1;32m--> 146\u001b[0m     img \u001b[38;5;241m=\u001b[39m \u001b[38;5;28;43mself\u001b[39;49m\u001b[38;5;241;43m.\u001b[39;49m\u001b[43mtransform\u001b[49m\u001b[43m(\u001b[49m\u001b[43mimg\u001b[49m\u001b[43m)\u001b[49m\n\u001b[0;32m    148\u001b[0m \u001b[38;5;28;01mif\u001b[39;00m \u001b[38;5;28mself\u001b[39m\u001b[38;5;241m.\u001b[39mtarget_transform \u001b[38;5;129;01mis\u001b[39;00m \u001b[38;5;129;01mnot\u001b[39;00m \u001b[38;5;28;01mNone\u001b[39;00m:\n\u001b[0;32m    149\u001b[0m     target \u001b[38;5;241m=\u001b[39m \u001b[38;5;28mself\u001b[39m\u001b[38;5;241m.\u001b[39mtarget_transform(target)\n",
      "File \u001b[1;32mc:\\Users\\domin\\AppData\\Local\\pypoetry\\Cache\\virtualenvs\\spurious-correlations-tPE6SoRX-py3.11\\Lib\\site-packages\\torchvision\\transforms\\transforms.py:95\u001b[0m, in \u001b[0;36mCompose.__call__\u001b[1;34m(self, img)\u001b[0m\n\u001b[0;32m     93\u001b[0m \u001b[38;5;28;01mdef\u001b[39;00m \u001b[38;5;21m__call__\u001b[39m(\u001b[38;5;28mself\u001b[39m, img):\n\u001b[0;32m     94\u001b[0m     \u001b[38;5;28;01mfor\u001b[39;00m t \u001b[38;5;129;01min\u001b[39;00m \u001b[38;5;28mself\u001b[39m\u001b[38;5;241m.\u001b[39mtransforms:\n\u001b[1;32m---> 95\u001b[0m         img \u001b[38;5;241m=\u001b[39m \u001b[43mt\u001b[49m\u001b[43m(\u001b[49m\u001b[43mimg\u001b[49m\u001b[43m)\u001b[49m\n\u001b[0;32m     96\u001b[0m     \u001b[38;5;28;01mreturn\u001b[39;00m img\n",
      "File \u001b[1;32mc:\\Users\\domin\\AppData\\Local\\pypoetry\\Cache\\virtualenvs\\spurious-correlations-tPE6SoRX-py3.11\\Lib\\site-packages\\torchvision\\transforms\\transforms.py:137\u001b[0m, in \u001b[0;36mToTensor.__call__\u001b[1;34m(self, pic)\u001b[0m\n\u001b[0;32m    129\u001b[0m \u001b[38;5;28;01mdef\u001b[39;00m \u001b[38;5;21m__call__\u001b[39m(\u001b[38;5;28mself\u001b[39m, pic):\n\u001b[0;32m    130\u001b[0m \u001b[38;5;250m    \u001b[39m\u001b[38;5;124;03m\"\"\"\u001b[39;00m\n\u001b[0;32m    131\u001b[0m \u001b[38;5;124;03m    Args:\u001b[39;00m\n\u001b[0;32m    132\u001b[0m \u001b[38;5;124;03m        pic (PIL Image or numpy.ndarray): Image to be converted to tensor.\u001b[39;00m\n\u001b[1;32m   (...)\u001b[0m\n\u001b[0;32m    135\u001b[0m \u001b[38;5;124;03m        Tensor: Converted image.\u001b[39;00m\n\u001b[0;32m    136\u001b[0m \u001b[38;5;124;03m    \"\"\"\u001b[39;00m\n\u001b[1;32m--> 137\u001b[0m     \u001b[38;5;28;01mreturn\u001b[39;00m \u001b[43mF\u001b[49m\u001b[38;5;241;43m.\u001b[39;49m\u001b[43mto_tensor\u001b[49m\u001b[43m(\u001b[49m\u001b[43mpic\u001b[49m\u001b[43m)\u001b[49m\n",
      "File \u001b[1;32mc:\\Users\\domin\\AppData\\Local\\pypoetry\\Cache\\virtualenvs\\spurious-correlations-tPE6SoRX-py3.11\\Lib\\site-packages\\torchvision\\transforms\\functional.py:176\u001b[0m, in \u001b[0;36mto_tensor\u001b[1;34m(pic)\u001b[0m\n\u001b[0;32m    174\u001b[0m img \u001b[38;5;241m=\u001b[39m img\u001b[38;5;241m.\u001b[39mpermute((\u001b[38;5;241m2\u001b[39m, \u001b[38;5;241m0\u001b[39m, \u001b[38;5;241m1\u001b[39m))\u001b[38;5;241m.\u001b[39mcontiguous()\n\u001b[0;32m    175\u001b[0m \u001b[38;5;28;01mif\u001b[39;00m \u001b[38;5;28misinstance\u001b[39m(img, torch\u001b[38;5;241m.\u001b[39mByteTensor):\n\u001b[1;32m--> 176\u001b[0m     \u001b[38;5;28;01mreturn\u001b[39;00m \u001b[43mimg\u001b[49m\u001b[38;5;241;43m.\u001b[39;49m\u001b[43mto\u001b[49m\u001b[43m(\u001b[49m\u001b[43mdtype\u001b[49m\u001b[38;5;241;43m=\u001b[39;49m\u001b[43mdefault_float_dtype\u001b[49m\u001b[43m)\u001b[49m\u001b[38;5;241;43m.\u001b[39;49m\u001b[43mdiv\u001b[49m\u001b[43m(\u001b[49m\u001b[38;5;241;43m255\u001b[39;49m\u001b[43m)\u001b[49m\n\u001b[0;32m    177\u001b[0m \u001b[38;5;28;01melse\u001b[39;00m:\n\u001b[0;32m    178\u001b[0m     \u001b[38;5;28;01mreturn\u001b[39;00m img\n",
      "\u001b[1;31mKeyboardInterrupt\u001b[0m: "
     ]
    }
   ],
   "source": [
    "spurious_features = {\n",
    "    9: lambda img: spurious_square(img, pos=Position.LEFT_TOP, size=5),\n",
    "    7: lambda img: spurious_square(img, pos=Position.RIGHT_BOTTOM, size=5),\n",
    "}\n",
    "\n",
    "probabilities = {9: 0.95, 7: 0.95}\n",
    "\n",
    "opposite_spurious_features = {\n",
    "    9: lambda img: spurious_square(img, pos=Position.RIGHT_BOTTOM, size=5),\n",
    "    7: lambda img: spurious_square(img, pos=Position.LEFT_TOP, size=5),\n",
    "}\n",
    "\n",
    "opposite_probabilities = {9: 0.95, 7: 0.95}\n",
    "\n",
    "config = {\"batch_size\": [32, 64], \"latent_size\": [128, 512]}\n",
    "\n",
    "run_experiments(\n",
    "    experiment_title=\"Experiment 1\",\n",
    "    labels=[7, 9],\n",
    "    spurious_features=spurious_features,\n",
    "    spurious_probabilities=probabilities,\n",
    "    opposite_spurious_features=opposite_spurious_features,\n",
    "    opposite_spurious_probabilities=opposite_probabilities,\n",
    "    experiment_config=config,\n",
    ")"
   ]
  },
  {
   "cell_type": "code",
   "execution_count": 2,
   "metadata": {},
   "outputs": [],
   "source": [
    "only_spurious = MNISTDataset(\n",
    "    train=True,\n",
    "    labels=[9, 7],\n",
    "    spurious_features={\n",
    "        9: lambda img: spurious_square(\n",
    "            img, pos=Position.LEFT_TOP, size=5, only_spurious=True\n",
    "        ),\n",
    "        7: lambda img: spurious_square(\n",
    "            img, pos=Position.RIGHT_BOTTOM, size=5, only_spurious=True\n",
    "        ),\n",
    "    },\n",
    "    probabilities={9: 1, 7: 1},\n",
    ")"
   ]
  },
  {
   "cell_type": "code",
   "execution_count": 7,
   "metadata": {},
   "outputs": [
    {
     "data": {
      "image/png": "[encoded data removed]",
      "text/plain": [
       "<Figure size 640x480 with 1 Axes>"
      ]
     },
     "metadata": {},
     "output_type": "display_data"
    }
   ],
   "source": [
    "only_spurious.view_item(1)"
   ]
  },
  {
   "cell_type": "code",
   "execution_count": 2,
   "metadata": {},
   "outputs": [],
   "source": [
    "top_left_square = SpuriousFeature(\n",
    "    spurious_square, \"Spurious Square Left Top\", pos=Position.LEFT_TOP, size=5\n",
    ")\n",
    "bottom_right_square = SpuriousFeature(\n",
    "    spurious_square, \"Spurious Square Bottom Right\", pos=Position.RIGHT_BOTTOM, size=5\n",
    ")\n",
    "\n",
    "train_dataset = MNISTDataset(\n",
    "    train=True,\n",
    "    labels=[9, 7],\n",
    "    main_spurious_features={\n",
    "        9: top_left_square,\n",
    "        7: bottom_right_square,\n",
    "    },\n",
    "    minority_spurious_features={9: bottom_right_square, 7: top_left_square},\n",
    "    probabilities={9: 0.95, 7: 0.95},\n",
    ")\n",
    "\n",
    "same_validation_dataset = MNISTDataset(\n",
    "    train=False,\n",
    "    labels=[9, 7],\n",
    "    main_spurious_features={\n",
    "        9: top_left_square,\n",
    "        7: bottom_right_square,\n",
    "    },\n",
    "    minority_spurious_features={9: bottom_right_square, 7: top_left_square},\n",
    "    probabilities={9: 0.95, 7: 0.95},\n",
    ")\n",
    "\n",
    "opposite_validation_dataset = MNISTDataset(\n",
    "    train=False,\n",
    "    labels=[9, 7],\n",
    "    main_spurious_features={\n",
    "        9: bottom_right_square,\n",
    "        7: top_left_square,\n",
    "    },\n",
    "    minority_spurious_features={9: top_left_square, 7: bottom_right_square},\n",
    "    probabilities={9: 0.95, 7: 0.95},\n",
    ")\n",
    "\n",
    "non_spurious_validation_dataset = MNISTDataset(\n",
    "    train=False,\n",
    "    labels=[9, 7],\n",
    ")\n",
    "\n",
    "# TODO\n",
    "# only spurious dataset = MNISTDataset()"
   ]
  },
  {
   "cell_type": "code",
   "execution_count": 3,
   "metadata": {},
   "outputs": [
    {
     "data": {
      "image/png": "[encoded data removed]",
      "text/plain": [
       "<Figure size 640x480 with 1 Axes>"
      ]
     },
     "metadata": {},
     "output_type": "display_data"
    }
   ],
   "source": [
    "train_dataset.view_item(5)"
   ]
  },
  {
   "cell_type": "code",
   "execution_count": 4,
   "metadata": {},
   "outputs": [],
   "source": [
    "train_loader = DataLoader(train_dataset, batch_size=64, shuffle=True)\n",
    "\n",
    "validation_dataloaders = {\n",
    "    \"Unbiased\": DataLoader(\n",
    "        non_spurious_validation_dataset, batch_size=64, shuffle=False\n",
    "    ),\n",
    "    \"Spurious\": DataLoader(same_validation_dataset, batch_size=64, shuffle=False),\n",
    "    \"Opposite\": DataLoader(opposite_validation_dataset, batch_size=64, shuffle=False),\n",
    "}"
   ]
  },
  {
   "cell_type": "code",
   "execution_count": 5,
   "metadata": {},
   "outputs": [
    {
     "name": "stderr",
     "output_type": "stream",
     "text": [
      "Epochs:  47%|████▋     | 7/15 [00:48<00:55,  6.97s/it, Train Loss=0.0091, Valid Loss Unbiased=0.0164, Train Accuracy=99.71%, Valid Accuracy Unbiased=0.995, Valid Accuracy Spurious=0.999, Valid Accuracy Opposite=0.977, Valid Worst Group Accuracy Unbiased=0.994, Valid Worst Group Accuracy Spurious=0.98, Valid Worst Group Accuracy Opposite=0.972] "
     ]
    },
    {
     "name": "stdout",
     "output_type": "stream",
     "text": [
      "Early Stopping triggered\n"
     ]
    },
    {
     "name": "stderr",
     "output_type": "stream",
     "text": [
      "\n"
     ]
    }
   ],
   "source": [
    "model = SimpleModel(num_classes=2)\n",
    "\n",
    "model_path, tensorboard_path = train(\n",
    "    model=model,\n",
    "    validation_loaders=validation_dataloaders,\n",
    "    train_loader=train_loader,\n",
    "    num_epochs=15,\n",
    "    optimizer_type=torch.optim.Adam,\n",
    "    lr=0.001,\n",
    "    weight_decay=1e-3,\n",
    "    use_early_stopping=True,\n",
    "    patience=2,\n",
    ")"
   ]
  },
  {
   "cell_type": "code",
   "execution_count": 7,
   "metadata": {},
   "outputs": [
    {
     "data": {
      "image/png": "[encoded data removed]",
      "text/plain": [
       "<Figure size 640x480 with 1 Axes>"
      ]
     },
     "metadata": {},
     "output_type": "display_data"
    }
   ],
   "source": [
    "dfr_train_set = MNISTDataset(\n",
    "    train=True,\n",
    "    labels=[9, 7],\n",
    "    main_spurious_features={9: top_left_square, 7: bottom_right_square},\n",
    "    minority_spurious_features={9: bottom_right_square, 7: top_left_square},\n",
    "    probabilities={7: 0.5, 9: 0.5},\n",
    ")\n",
    "dfr_loader = DataLoader(dfr_train_set, batch_size=64, shuffle=True)\n",
    "dfr_train_set.view_item(5)"
   ]
  },
  {
   "cell_type": "code",
   "execution_count": 8,
   "metadata": {},
   "outputs": [
    {
     "name": "stderr",
     "output_type": "stream",
     "text": [
      "Reweighting Epochs:  36%|███▌      | 18/50 [01:18<02:19,  4.35s/it, Train Loss=0.0233, Valid Loss Unbiased=0.0150, Train Accuracy=99.33%, Valid Accuracy Unbiased=0.995, Valid Accuracy Spurious=0.999, Valid Accuracy Opposite=0.988, Valid Worst Group Accuracy Unbiased=0.994, Valid Worst Group Accuracy Spurious=0.98, Valid Worst Group Accuracy Opposite=0.987]"
     ]
    },
    {
     "name": "stdout",
     "output_type": "stream",
     "text": [
      "Early stopping triggered\n"
     ]
    },
    {
     "name": "stderr",
     "output_type": "stream",
     "text": [
      "\n"
     ]
    }
   ],
   "source": [
    "model_path, tensorboard_path = deep_feature_reweighting(\n",
    "    path_to_model=model_path,\n",
    "    path_to_tensorboard_run=tensorboard_path,\n",
    "    model=SimpleModel(num_classes=2),\n",
    "    num_epochs=50,\n",
    "    validation_loaders=validation_dataloaders,\n",
    "    train_loader=dfr_loader,\n",
    "    optimizer_type=torch.optim.Adam,\n",
    "    lr=0.001,\n",
    "    weight_decay=1e-3,\n",
    ")"
   ]
  },
  {
   "cell_type": "code",
   "execution_count": 9,
   "metadata": {},
   "outputs": [
    {
     "data": {
      "text/plain": [
       "'runs/10_12_2024_1244'"
      ]
     },
     "execution_count": 9,
     "metadata": {},
     "output_type": "execute_result"
    }
   ],
   "source": [
    "tensorboard_path"
   ]
  },
  {
   "cell_type": "code",
   "execution_count": null,
   "metadata": {},
   "outputs": [],
   "source": []
  }
 ],
 "metadata": {
  "kernelspec": {
   "display_name": "spurious-correlations-tPE6SoRX-py3.11",
   "language": "python",
   "name": "python3"
  },
  "language_info": {
   "codemirror_mode": {
    "name": "ipython",
    "version": 3
   },
   "file_extension": ".py",
   "mimetype": "text/x-python",
   "name": "python",
   "nbconvert_exporter": "python",
   "pygments_lexer": "ipython3",
   "version": "3.11.9"
  }
 },
 "nbformat": 4,
 "nbformat_minor": 2
}
