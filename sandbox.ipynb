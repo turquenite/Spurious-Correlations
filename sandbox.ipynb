{
 "cells": [
  {
   "cell_type": "code",
   "execution_count": 1,
   "metadata": {},
   "outputs": [],
   "source": [
    "from torch.utils.data import DataLoader\n",
    "from dataset import MNISTDataset\n",
    "from model_trainer import deep_feature_reweighting, train\n",
    "from models import SimpleModel\n",
    "from spurious_features import Position, spurious_square\n",
    "import torch"
   ]
  },
  {
   "cell_type": "code",
   "execution_count": 2,
   "metadata": {},
   "outputs": [],
   "source": [
    "train_dataset = MNISTDataset(\n",
    "    train=True,\n",
    "    labels=[9, 7],\n",
    "    spurious_features={\n",
    "        9: lambda img: spurious_square(img, pos=Position.LEFT_TOP, size=5),\n",
    "        7: lambda img: spurious_square(img, pos=Position.RIGHT_BOTTOM, size=5),\n",
    "    },\n",
    "    probabilities={9: 0.95, 7: 0.95},\n",
    ")\n",
    "\n",
    "same_validation_dataset = MNISTDataset(\n",
    "    train=False,\n",
    "    labels=[9, 7],\n",
    "    spurious_features={\n",
    "        9: lambda img: spurious_square(img, pos=Position.LEFT_TOP, size=5),\n",
    "        7: lambda img: spurious_square(img, pos=Position.RIGHT_BOTTOM, size=5),\n",
    "    },\n",
    "    probabilities={9: 0.95, 7: 0.95},\n",
    ")\n",
    "\n",
    "opposite_validation_dataset = MNISTDataset(\n",
    "    train=False,\n",
    "    labels=[9, 7],\n",
    "    spurious_features={\n",
    "        9: lambda img: spurious_square(img, pos=Position.RIGHT_BOTTOM, size=5),\n",
    "        7: lambda img: spurious_square(img, pos=Position.LEFT_TOP, size=5),\n",
    "    },\n",
    "    probabilities={9: 0.95, 7: 0.95},\n",
    ")\n",
    "\n",
    "non_spurious_validation_dataset = MNISTDataset(\n",
    "    train=False,\n",
    "    labels=[9, 7],\n",
    ")\n",
    "\n",
    "# TODO\n",
    "# only spurious dataset = MNISTDataset()"
   ]
  },
  {
   "cell_type": "code",
   "execution_count": 3,
   "metadata": {},
   "outputs": [
    {
     "data": {
      "image/png": "[encoded data removed]",
      "text/plain": [
       "<Figure size 640x480 with 1 Axes>"
      ]
     },
     "metadata": {},
     "output_type": "display_data"
    }
   ],
   "source": [
    "train_dataset.view_item(5)"
   ]
  },
  {
   "cell_type": "code",
   "execution_count": 4,
   "metadata": {},
   "outputs": [],
   "source": [
    "train_loader = DataLoader(train_dataset, batch_size=64, shuffle=True)\n",
    "\n",
    "validation_dataloaders = {\n",
    "    \"Unbiased\": DataLoader(\n",
    "        non_spurious_validation_dataset, batch_size=64, shuffle=False\n",
    "    ),\n",
    "    \"Spurious\": DataLoader(same_validation_dataset, batch_size=64, shuffle=False),\n",
    "    \"Opposite\": DataLoader(opposite_validation_dataset, batch_size=64, shuffle=False),\n",
    "}"
   ]
  },
  {
   "cell_type": "code",
   "execution_count": 5,
   "metadata": {},
   "outputs": [
    {
     "name": "stderr",
     "output_type": "stream",
     "text": [
      "Epochs: 100%|██████████| 15/15 [00:29<00:00,  1.98s/it, Train Loss=0.0265, Valid Loss Unbiased=0.423, Valid Loss Spurious=0.0249, Valid Loss Opposite=3.93, Train Accuracy=99.40%, Valid Accuracy Unbiased=0.894, Valid Accuracy Spurious=0.995, Valid Accuracy Opposite=0.0447, Valid Worst Group Accuracy Unbiased=0.857, Valid Worst Group Accuracy Spurious=0.882, Valid Worst Group Accuracy Opposite=0]\n"
     ]
    }
   ],
   "source": [
    "model = SimpleModel(num_classes=2)\n",
    "\n",
    "model_path, tensorboard_path = train(\n",
    "    model=model,\n",
    "    validation_loaders=validation_dataloaders,\n",
    "    train_loader=train_loader,\n",
    "    num_epochs=15,\n",
    "    optimizer_type=torch.optim.SGD,\n",
    "    lr=0.001,\n",
    ")"
   ]
  },
  {
   "cell_type": "code",
   "execution_count": 6,
   "metadata": {},
   "outputs": [
    {
     "data": {
      "image/png": "[encoded data removed]",
      "text/plain": [
       "<Figure size 640x480 with 1 Axes>"
      ]
     },
     "metadata": {},
     "output_type": "display_data"
    }
   ],
   "source": [
    "dfr_train_set = MNISTDataset(train=True, labels=[9, 7])\n",
    "dfr_loader = DataLoader(dfr_train_set, batch_size=64, shuffle=True)\n",
    "dfr_train_set.view_item(5)"
   ]
  },
  {
   "cell_type": "code",
   "execution_count": 7,
   "metadata": {},
   "outputs": [
    {
     "name": "stderr",
     "output_type": "stream",
     "text": [
      "Reweighting Epochs: 100%|██████████| 5/5 [00:07<00:00,  1.41s/it, Train Loss=0.4131, Valid Loss Unbiased=0.395, Valid Loss Spurious=0.021, Valid Loss Opposite=4.56, Train Accuracy=87.97%, Valid Accuracy Unbiased=0.895, Valid Accuracy Spurious=0.995, Valid Accuracy Opposite=0.0447, Valid Worst Group Accuracy Unbiased=0.854, Valid Worst Group Accuracy Spurious=0.902, Valid Worst Group Accuracy Opposite=0] \n"
     ]
    }
   ],
   "source": [
    "model_path, tensorboard_path = deep_feature_reweighting(\n",
    "    path_to_model=model_path,\n",
    "    path_to_tensorboard_run=tensorboard_path,\n",
    "    model=model,\n",
    "    num_epochs=5,\n",
    "    validation_loaders=validation_dataloaders,\n",
    "    train_loader=dfr_loader,\n",
    "    optimizer_type=torch.optim.SGD,\n",
    "    lr=0.001,\n",
    ")"
   ]
  },
  {
   "cell_type": "code",
   "execution_count": 8,
   "metadata": {},
   "outputs": [
    {
     "data": {
      "text/plain": [
       "'runs/29_11_2024_1248'"
      ]
     },
     "execution_count": 8,
     "metadata": {},
     "output_type": "execute_result"
    }
   ],
   "source": [
    "tensorboard_path"
   ]
  }
 ],
 "metadata": {
  "kernelspec": {
   "display_name": "spurious-correlations-tPE6SoRX-py3.12",
   "language": "python",
   "name": "python3"
  },
  "language_info": {
   "codemirror_mode": {
    "name": "ipython",
    "version": 3
   },
   "file_extension": ".py",
   "mimetype": "text/x-python",
   "name": "python",
   "nbconvert_exporter": "python",
   "pygments_lexer": "ipython3",
   "version": "3.12.7"
  }
 },
 "nbformat": 4,
 "nbformat_minor": 2
}
