{
 "cells": [
  {
   "cell_type": "code",
   "execution_count": 1,
   "metadata": {},
   "outputs": [],
   "source": [
    "from torch.utils.data import DataLoader\n",
    "from dataset import MNISTDataset\n",
    "from model_trainer import deep_feature_reweighting, train\n",
    "from models import SimpleModel\n",
    "from spurious_features import Position, spurious_square, SpuriousFeature\n",
    "import torch"
   ]
  },
  {
   "cell_type": "code",
   "execution_count": 2,
   "metadata": {},
   "outputs": [],
   "source": [
    "top_left_square = SpuriousFeature(\n",
    "    spurious_square, \"Spurious Square Left Top\", pos=Position.LEFT_TOP, size=5\n",
    ")\n",
    "bottom_right_square = SpuriousFeature(\n",
    "    spurious_square, \"Spurious Square Bottom Right\", pos=Position.RIGHT_BOTTOM, size=5\n",
    ")\n",
    "\n",
    "train_dataset = MNISTDataset(\n",
    "    train=True,\n",
    "    labels=[9, 7],\n",
    "    main_spurious_features={\n",
    "        9: top_left_square,\n",
    "        7: bottom_right_square,\n",
    "    },\n",
    "    # minority_spurious_features={9: bottom_right_square, 7: top_left_square},\n",
    "    probabilities={9: 0.95, 7: 0.95},\n",
    ")\n",
    "\n",
    "same_validation_dataset = MNISTDataset(\n",
    "    train=False,\n",
    "    labels=[9, 7],\n",
    "    main_spurious_features={\n",
    "        9: top_left_square,\n",
    "        7: bottom_right_square,\n",
    "    },\n",
    "    # minority_spurious_features={9: bottom_right_square, 7: top_left_square},\n",
    "    probabilities={9: 0.95, 7: 0.95},\n",
    ")\n",
    "\n",
    "opposite_validation_dataset = MNISTDataset(\n",
    "    train=False,\n",
    "    labels=[9, 7],\n",
    "    main_spurious_features={\n",
    "        9: bottom_right_square,\n",
    "        7: top_left_square,\n",
    "    },\n",
    "    # minority_spurious_features={9: top_left_square, 7: bottom_right_square},\n",
    "    probabilities={9: 0.95, 7: 0.95},\n",
    ")\n",
    "\n",
    "non_spurious_validation_dataset = MNISTDataset(\n",
    "    train=False,\n",
    "    labels=[9, 7],\n",
    ")"
   ]
  },
  {
   "cell_type": "code",
   "execution_count": 3,
   "metadata": {},
   "outputs": [],
   "source": [
    "train_loader = DataLoader(train_dataset, batch_size=64, shuffle=True)\n",
    "\n",
    "validation_dataloaders = {\n",
    "    \"Unbiased\": DataLoader(\n",
    "        non_spurious_validation_dataset, batch_size=64, shuffle=False\n",
    "    ),\n",
    "    \"Spurious\": DataLoader(same_validation_dataset, batch_size=64, shuffle=False),\n",
    "    \"Opposite\": DataLoader(opposite_validation_dataset, batch_size=64, shuffle=False),\n",
    "}"
   ]
  },
  {
   "cell_type": "code",
   "execution_count": 4,
   "metadata": {},
   "outputs": [
    {
     "name": "stderr",
     "output_type": "stream",
     "text": [
      "Epochs:  33%|███▎      | 5/15 [00:41<01:22,  8.22s/it, Train Loss=0.0048, Valid Loss Unbiased=0.1488, Train Accuracy=99.83%, Valid Accuracy Unbiased=0.942, Valid Accuracy Spurious=0.994, Valid Accuracy Opposite=0.294, Valid Worst Group Accuracy Unbiased=0.891, Valid Worst Group Accuracy Spurious=0.827, Valid Worst Group Accuracy Opposite=0.0932] "
     ]
    },
    {
     "name": "stdout",
     "output_type": "stream",
     "text": [
      "Early Stopping triggered\n"
     ]
    },
    {
     "name": "stderr",
     "output_type": "stream",
     "text": [
      "\n"
     ]
    }
   ],
   "source": [
    "model = SimpleModel(num_classes=2)\n",
    "\n",
    "model_path, tensorboard_path = train(\n",
    "    model=model,\n",
    "    validation_loaders=validation_dataloaders,\n",
    "    train_loader=train_loader,\n",
    "    num_epochs=15,\n",
    "    optimizer_type=torch.optim.Adam,\n",
    "    lr=0.001,\n",
    "    weight_decay=1e-3,\n",
    "    use_early_stopping=True,\n",
    "    patience=2,\n",
    ")"
   ]
  },
  {
   "cell_type": "code",
   "execution_count": 5,
   "metadata": {},
   "outputs": [
    {
     "data": {
      "image/png": "[encoded data removed]",
      "text/plain": [
       "<Figure size 640x480 with 1 Axes>"
      ]
     },
     "metadata": {},
     "output_type": "display_data"
    }
   ],
   "source": [
    "dfr_train_set = MNISTDataset(\n",
    "    train=True,\n",
    "    labels=[9, 7],\n",
    "    main_spurious_features={9: top_left_square, 7: bottom_right_square},\n",
    "    minority_spurious_features={9: bottom_right_square, 7: top_left_square},\n",
    "    probabilities={7: 0.5, 9: 0.5},\n",
    ")\n",
    "dfr_loader = DataLoader(dfr_train_set, batch_size=64, shuffle=True)\n",
    "dfr_train_set.view_item(5)"
   ]
  },
  {
   "cell_type": "code",
   "execution_count": 6,
   "metadata": {},
   "outputs": [
    {
     "name": "stderr",
     "output_type": "stream",
     "text": [
      "Reweighting Epochs:  84%|████████▍ | 42/50 [02:57<00:33,  4.22s/it, Train Loss=0.2117, Valid Loss Unbiased=0.1953, Train Accuracy=93.18%, Valid Accuracy Unbiased=0.942, Valid Accuracy Spurious=0.98, Valid Accuracy Opposite=0.904, Valid Worst Group Accuracy Unbiased=0.901, Valid Worst Group Accuracy Spurious=0.865, Valid Worst Group Accuracy Opposite=0.89]   "
     ]
    },
    {
     "name": "stdout",
     "output_type": "stream",
     "text": [
      "Early stopping triggered\n"
     ]
    },
    {
     "name": "stderr",
     "output_type": "stream",
     "text": [
      "\n"
     ]
    }
   ],
   "source": [
    "dfr_model = SimpleModel(num_classes=2)\n",
    "\n",
    "model_path, tensorboard_path = deep_feature_reweighting(\n",
    "    path_to_model=model_path,\n",
    "    path_to_tensorboard_run=tensorboard_path,\n",
    "    model=dfr_model,\n",
    "    num_epochs=50,\n",
    "    validation_loaders=validation_dataloaders,\n",
    "    train_loader=dfr_loader,\n",
    "    optimizer_type=torch.optim.Adam,\n",
    "    lr=0.001,\n",
    "    weight_decay=1e-3,\n",
    ")"
   ]
  },
  {
   "cell_type": "code",
   "execution_count": 7,
   "metadata": {},
   "outputs": [
    {
     "data": {
      "text/plain": [
       "'runs/13_12_2024_1021'"
      ]
     },
     "execution_count": 7,
     "metadata": {},
     "output_type": "execute_result"
    }
   ],
   "source": [
    "tensorboard_path"
   ]
  },
  {
   "cell_type": "code",
   "execution_count": 8,
   "metadata": {},
   "outputs": [
    {
     "data": {
      "image/png": "[encoded data removed]",
      "text/plain": [
       "<Figure size 800x400 with 2 Axes>"
      ]
     },
     "metadata": {},
     "output_type": "display_data"
    },
    {
     "data": {
      "image/png": "[encoded data removed]",
      "text/plain": [
       "<Figure size 800x400 with 2 Axes>"
      ]
     },
     "metadata": {},
     "output_type": "display_data"
    }
   ],
   "source": [
    "train_dataset.gradcam(model, 5, model.conv2)\n",
    "train_dataset.gradcam(dfr_model, 5, dfr_model.conv2)"
   ]
  }
 ],
 "metadata": {
  "kernelspec": {
   "display_name": "spurious-correlations-tPE6SoRX-py3.11",
   "language": "python",
   "name": "python3"
  },
  "language_info": {
   "codemirror_mode": {
    "name": "ipython",
    "version": 3
   },
   "file_extension": ".py",
   "mimetype": "text/x-python",
   "name": "python",
   "nbconvert_exporter": "python",
   "pygments_lexer": "ipython3",
   "version": "3.11.9"
  }
 },
 "nbformat": 4,
 "nbformat_minor": 2
}
